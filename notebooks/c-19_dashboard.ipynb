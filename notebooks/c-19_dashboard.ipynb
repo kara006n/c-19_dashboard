{
 "cells": [
  {
   "cell_type": "markdown",
   "metadata": {},
   "source": [
    "# Covid-19 Dashboard"
   ]
  },
  {
   "cell_type": "code",
   "execution_count": 1,
   "metadata": {},
   "outputs": [],
   "source": [
    "from __future__ import print_function\n",
    "from ipywidgets import interact, interactive, fixed, interact_manual\n",
    "from IPython.core.display import display, HTML\n",
    "import ipywidgets as widgets\n",
    "import pandas as pd\n",
    "import numpy as np\n",
    "import folium\n",
    "import plotly.graph_objects as go"
   ]
  },
  {
   "cell_type": "code",
   "execution_count": 2,
   "metadata": {},
   "outputs": [],
   "source": [
    "death_df = pd.read_csv(\"https://raw.githubusercontent.com/microsoft/Bing-COVID-19-Data/master/data/Bing-COVID19-Data.csv\")"
   ]
  },
  {
   "cell_type": "code",
   "execution_count": 54,
   "metadata": {},
   "outputs": [],
   "source": [
    "# qwer=death_df[death_df['Country_Region'] == 'Worldwide']\n",
    "# qwer"
   ]
  },
  {
   "cell_type": "code",
   "execution_count": 4,
   "metadata": {},
   "outputs": [],
   "source": [
    "# map_data=death_df.loc[death_df['Updated']=='06/20/2020', ['Latitude','Longitude','AdminRegion2','Confirmed']]\n",
    "# map_data=map_data.dropna()\n",
    "# map_data.head(1)\n"
   ]
  },
  {
   "cell_type": "code",
   "execution_count": 26,
   "metadata": {},
   "outputs": [],
   "source": [
    "# map_data=death_df.loc[death_df['Updated']=='06/20/2020', ['Latitude','Longitude','AdminRegion2','Confirmed']]\n",
    "# map_data=map_data.dropna()\n",
    "# world_map = folium.Map(location=[20.5,78.9], tiles='openstreetmap', zoom_start=4, max_zoom= 6, min_zoom=2)\n",
    "\n",
    "# for i in range(len(map_data)):\n",
    "#     folium.Circle(\n",
    "#         location=[map_data.iloc[i]['Latitude'], map_data.iloc[i]['Longitude']],\n",
    "#         fill=False,\n",
    "#         radius = (int((np.log(map_data.iloc[i]['Confirmed']+1.00001)))+0.2)*3500,\n",
    "#         fill_color = 'blue',\n",
    "#         color = 'red',\n",
    "# #         tooltip = \"<div style='margin: 0; background-color: powderblue; color: blue;'>\"+\n",
    "# #                     \"<h4 style='text-align:center;font-weight: bold'>\"+confirmed_df.iloc[i]['country'] + \"</h4>\"\n",
    "# #                     \"<hr style='margin:10px;color: white;'>\"+\n",
    "# #                     \"<ul style='color: blue;;list-style-type:circle;align-item:left;padding-left:20px;padding-right:20px'>\"+\n",
    "# #                         \"<li>Confirmed: \"+str(confirmed_df.iloc[i,-1])+\"</li>\"+\n",
    "# #                         \"<li>Deaths:   \"+str(death_df.iloc[i,-1])+\"</li>\"+\n",
    "# #                         \"<li>Death Rate: \"+ str(np.round(death_df.iloc[i,-1]/(confirmed_df.iloc[i,-1]+1.00001)*100,2))+ \"</li>\"+\n",
    "# #                     \"</ul></div>\",\n",
    "#         ).add_to(world_map)\n",
    "\n",
    "    \n",
    "# world_map    "
   ]
  },
  {
   "cell_type": "code",
   "execution_count": 6,
   "metadata": {},
   "outputs": [],
   "source": [
    "# Select your Country to get data:"
   ]
  },
  {
   "cell_type": "code",
   "execution_count": 7,
   "metadata": {},
   "outputs": [],
   "source": [
    "# def country_data1(country):\n",
    "#     data_country=death_df[(death_df['Country_Region'] == country)&(death_df['AdminRegion2'].isnull())&(death_df['AdminRegion1'].isnull())].tail(1)\n",
    "#     display(HTML(\"<div style = 'background-color: #504e4e; padding: 30px '>\" +\n",
    "#              \"<span style='color: yellow; font-size:30px;'> Confirmed: \"  + str(int(data_country.iloc[0,2])) +\"</span>\" +\n",
    "#              \"<span style='color: red; font-size:30px;margin-left:20px;'> Deaths: \" + str(int(data_country.iloc[0,4])) + \"</span>\"+\n",
    "#              \"<span style='color: lightgreen; font-size:30px; margin-left:20px;'> Recovered: \" + str(int(data_country.iloc[0,6])) + \"</span>\"+\n",
    "#              \"</div>\")\n",
    "#                )\n",
    "        \n",
    "\n",
    "# list_country=list(death_df.Country_Region)\n",
    "# list_country=list(dict.fromkeys(list_country))\n",
    "# interact(country_data1, country=list_country);"
   ]
  },
  {
   "cell_type": "code",
   "execution_count": 8,
   "metadata": {},
   "outputs": [],
   "source": [
    "# Select your State to get data:"
   ]
  },
  {
   "cell_type": "code",
   "execution_count": 9,
   "metadata": {},
   "outputs": [],
   "source": [
    "# def state_data2(state):\n",
    "#     data_state=death_df[(death_df['AdminRegion1'] == state)&(death_df['AdminRegion2'].isnull())].tail(1)\n",
    "#     if data_state.empty:\n",
    "#         print('No data found')\n",
    "#     else:\n",
    "#         display(HTML(\"<div style = 'background-color: #504e4e; padding: 30px '>\" +\n",
    "#              \"<span style='color: yellow; font-size:30px;'> Confirmed: \"  + str(data_state.iloc[0,2]) +\"</span>\" +\n",
    "#              \"<span style='color: red; font-size:30px;margin-left:20px;'> Deaths: \" + str(data_state.iloc[0,4]) + \"</span>\"+\n",
    "#              \"<span style='color: lightgreen; font-size:30px; margin-left:20px;'> Recovered: \" + str(data_state.iloc[0,6]) + \"</span>\"+\n",
    "#              \"</div>\")\n",
    "#                )\n",
    "\n",
    "\n",
    "# def country_data2(country):\n",
    "#     list_state=death_df[death_df['Country_Region'] == country]\n",
    "#     list_state=list(list_state.AdminRegion1)\n",
    "#     list_state=[x for x in list_state if str(x)!='nan']\n",
    "#     #print(list_state)\n",
    "#     if not list_state:\n",
    "#         print(\"No state available\")\n",
    "#     else:    \n",
    "#         list_state=list(dict.fromkeys(list_state))\n",
    "#         #print(list_state)\n",
    "#         #list_state=list_state[1:]\n",
    "#         interact(state_data2, state=list_state);\n",
    "\n",
    "# list_country=list(death_df.Country_Region)\n",
    "# list_country=list(dict.fromkeys(list_country))\n",
    "# interact(country_data2, country=list_country);"
   ]
  },
  {
   "cell_type": "markdown",
   "metadata": {},
   "source": [
    "# Select your Country to get data:"
   ]
  },
  {
   "cell_type": "code",
   "execution_count": 134,
   "metadata": {},
   "outputs": [],
   "source": [
    "list_date=death_df.loc[death_df['Country_Region'] == 'India',['Updated']].tail(3)\n",
    "list_date=[x for x in list_date.iloc[:,0]]\n"
   ]
  },
  {
   "cell_type": "code",
   "execution_count": 88,
   "metadata": {},
   "outputs": [
    {
     "data": {
      "application/vnd.jupyter.widget-view+json": {
       "model_id": "18d528e254914b679debb4000effee35",
       "version_major": 2,
       "version_minor": 0
      },
      "text/plain": [
       "interactive(children=(Dropdown(description='Country', options=('Worldwide', 'Afghanistan', 'Albania', 'Algeria…"
      ]
     },
     "metadata": {},
     "output_type": "display_data"
    }
   ],
   "source": [
    "def country_data3(Country):\n",
    "    data_country=death_df[(death_df['Country_Region'] == Country)&(death_df['AdminRegion2'].isnull())&(death_df['AdminRegion1'].isnull())].tail(1)\n",
    "    data_country.fillna(0, inplace=True)\n",
    "    if data_country.empty:\n",
    "        print('No data found')\n",
    "    else:\n",
    "        display(HTML(\"<div style = 'background-color: #504e4e; padding: 30px '>\" +\n",
    "             \"<span style='color: yellow; font-size:30px;'> Confirmed: \"  + str(int(data_country.iloc[0,2])) +\"</span>\" +\n",
    "             \"<span style='color: red; font-size:30px;margin-left:20px;'> Deaths: \" + str(int(data_country.iloc[0,4])) + \"</span>\"+\n",
    "             \"<span style='color: lightgreen; font-size:30px; margin-left:20px;'> Recovered: \" + str(int(data_country.iloc[0,6])) + \"</span>\"+\n",
    "             \"</div>\")\n",
    "               )\n",
    "\n",
    "\n",
    "list_country=list(death_df.Country_Region)\n",
    "list_country=list(dict.fromkeys(list_country))\n",
    "interact(country_data3, Country=list_country);"
   ]
  },
  {
   "cell_type": "markdown",
   "metadata": {},
   "source": [
    "# Select your State to get data:"
   ]
  },
  {
   "cell_type": "code",
   "execution_count": 90,
   "metadata": {},
   "outputs": [
    {
     "data": {
      "application/vnd.jupyter.widget-view+json": {
       "model_id": "e7c4bc57c405486398027e9f10a85122",
       "version_major": 2,
       "version_minor": 0
      },
      "text/plain": [
       "interactive(children=(Dropdown(description='State', index=350, options=('Catamarca', 'Cordoba', 'Chaco', 'City…"
      ]
     },
     "metadata": {},
     "output_type": "display_data"
    }
   ],
   "source": [
    "def state_data3(State='Uttar Pradesh'):\n",
    "    data_state=death_df[(death_df['AdminRegion1'] == State)&(death_df['AdminRegion2'].isnull())&((death_df['Updated'] == list_date[2])|(death_df['Updated'] == list_date[1])|(death_df['Updated'] == list_date[0]))].tail(1)\n",
    "    data_state.fillna(0, inplace=True)\n",
    "    if data_state.empty:\n",
    "        print('No data found')\n",
    "    else:\n",
    "        display(HTML(\"<div style = 'background-color: #504e4e; padding: 30px '>\" +\n",
    "             \"<span style='color: yellow; font-size:30px;'> Confirmed: \"  + str(int(data_state.iloc[0,2])) +\"</span>\" +\n",
    "             \"<span style='color: red; font-size:30px;margin-left:20px;'> Deaths: \" + str(int(data_state.iloc[0,4])) + \"</span>\"+\n",
    "             \"<span style='color: lightgreen; font-size:30px; margin-left:20px;'> Recovered: \" + str(int(data_state.iloc[0,6])) + \"</span>\"+\n",
    "             \"</div>\")\n",
    "               )\n",
    "list_state=list(death_df.AdminRegion1)\n",
    "list_state=[x for x in list_state if str(x)!='nan']\n",
    "#print(list_state)\n",
    "list_state=list(dict.fromkeys(list_state))\n",
    "#print(list_state)\n",
    "#list_state=list_state[1:]\n",
    "interact(state_data3, State=list_state);\n"
   ]
  },
  {
   "cell_type": "markdown",
   "metadata": {},
   "source": [
    "# Select your City to get data:"
   ]
  },
  {
   "cell_type": "code",
   "execution_count": 123,
   "metadata": {},
   "outputs": [
    {
     "data": {
      "application/vnd.jupyter.widget-view+json": {
       "model_id": "1667ed5137d34c8686fa05b0baf2de72",
       "version_major": 2,
       "version_minor": 0
      },
      "text/plain": [
       "interactive(children=(Dropdown(description='city', index=708, options=('Yukon', 'Easter Island', 'Alajuela', '…"
      ]
     },
     "metadata": {},
     "output_type": "display_data"
    }
   ],
   "source": [
    "def city_data3(city='Lucknow'):\n",
    "    data_city=death_df[(death_df['AdminRegion2'] == city)&((death_df['Updated'] == list_date[2])|(death_df['Updated'] == list_date[1])|(death_df['Updated'] == list_date[0]))]\n",
    "    data_city=data_city.tail(1)\n",
    "    data_city.fillna(0, inplace=True)\n",
    "    if data_city.empty:\n",
    "        print('No data found')\n",
    "    else:\n",
    "        display(HTML(\"<div style = 'background-color: #504e4e; padding: 30px '>\" +\n",
    "             \"<span style='color: yellow; font-size:30px;'> Confirmed: \"  + str(int(data_city.iloc[0,2])) +\"</span>\" +\n",
    "             \"<span style='color: red; font-size:30px;margin-left:20px;'> Deaths: \" + str(int(data_city.iloc[0,4])) + \"</span>\"+\n",
    "             \"<span style='color: lightgreen; font-size:30px; margin-left:20px;'> Recovered: \" + str(int(data_city.iloc[0,6])) + \"</span>\"+\n",
    "             \"</div>\")\n",
    "               )\n",
    "list_city=list(death_df.AdminRegion2)\n",
    "list_city=[y for y in list_city if str(y)!='nan']\n",
    "#print(list_state)\n",
    "list_city=list(dict.fromkeys(list_city))\n",
    "#list_city=list_city[1:]\n",
    "interact(city_data3, city=list_city);    "
   ]
  },
  {
   "cell_type": "code",
   "execution_count": 137,
   "metadata": {},
   "outputs": [],
   "source": [
    "# date=death_df.loc[death_df['Country_Region'] == 'Worldwide',['Updated']].tail(1)\n",
    "# date=date.iloc[0,0]"
   ]
  },
  {
   "cell_type": "code",
   "execution_count": 143,
   "metadata": {},
   "outputs": [],
   "source": [
    "# special=death_df.loc[death_df['Updated']=='06/20/2020', ['Latitude','Longitude','AdminRegion2','Confirmed']].dropna()\n",
    "# special\n",
    "# # map_data=death_df.loc[death_df['Updated']=='06/20/2020', ['Latitude','Longitude','AdminRegion2','Confirmed']]\n",
    "# # map_data=map_data.dropna()"
   ]
  },
  {
   "cell_type": "code",
   "execution_count": 135,
   "metadata": {},
   "outputs": [],
   "source": [
    "# date1='06/21/2020'\n",
    "# if date1>date:\n",
    "#     print('correct')\n",
    "# else:\n",
    "#     print('False')"
   ]
  }
 ],
 "metadata": {
  "kernelspec": {
   "display_name": "Python 3",
   "language": "python",
   "name": "python3"
  },
  "language_info": {
   "codemirror_mode": {
    "name": "ipython",
    "version": 3
   },
   "file_extension": ".py",
   "mimetype": "text/x-python",
   "name": "python",
   "nbconvert_exporter": "python",
   "pygments_lexer": "ipython3",
   "version": "3.7.6"
  }
 },
 "nbformat": 4,
 "nbformat_minor": 4
}
