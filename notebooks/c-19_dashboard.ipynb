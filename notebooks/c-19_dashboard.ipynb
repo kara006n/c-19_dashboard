{
 "cells": [
  {
   "cell_type": "markdown",
   "metadata": {},
   "source": [
    "***\n",
    "# `COVID-19 Dashboard`\n",
    "***\n",
    "<!-- ***\n",
    "# <font color='blue'>COVID-19 Dashboard</font>\n",
    "*** -->"
   ]
  },
  {
   "cell_type": "markdown",
   "metadata": {},
   "source": [
    "> Coronavirus disease (COVID-19) is an infectious disease caused by a newly discovered coronavirus. Most people infected with \n",
    "the COVID-19 virus will experience mild to moderate respiratory illness and recover without requiring special treatment. Older \n",
    "people, and those with underlying medical problems like cardiovascular disease, diabetes, chronic respiratory disease, and \n",
    "cancer are more likely to develop serious illness. The best way to prevent and slow down transmission is be well informed about \n",
    "the COVID-19 virus, the disease it causes and how it spreads. Protect yourself and others from infection by washing your hands \n",
    "or using an alcohol based rub frequently and not touching your face."
   ]
  },
  {
   "cell_type": "code",
   "execution_count": 34,
   "metadata": {},
   "outputs": [],
   "source": [
    "from __future__ import print_function\n",
    "from ipywidgets import interact, interactive, fixed, interact_manual\n",
    "from IPython.core.display import display, HTML\n",
    "import ipywidgets as widgets\n",
    "import pandas as pd\n",
    "import numpy as np\n",
    "import folium\n",
    "import plotly.graph_objects as go"
   ]
  },
  {
   "cell_type": "code",
   "execution_count": 21,
   "metadata": {},
   "outputs": [],
   "source": [
    "#HTML(\"<img src=https://www.ikg-wien.at/wp-content/uploads/2020/03/Coronavirus-2.jpg, width=650 >\")\n",
    "HTML(\"<img src=https://www.astho.org/uploadedImages/Programs/Infectious_Disease/Corona/COVID%20Banner.jpg?n=8180, width=950 >\")"
   ]
  },
  {
   "cell_type": "code",
   "execution_count": 3,
   "metadata": {},
   "outputs": [],
   "source": [
    "death_df = pd.read_csv(\"https://raw.githubusercontent.com/CSSEGISandData/COVID-19/master/csse_covid_19_data/csse_covid_19_time_series/time_series_covid19_deaths_global.csv\")\n",
    "confirmed_df = pd.read_csv(\"https://raw.githubusercontent.com/CSSEGISandData/COVID-19/master/csse_covid_19_data/csse_covid_19_time_series/time_series_covid19_confirmed_global.csv\")\n",
    "recovered_df = pd.read_csv(\"https://raw.githubusercontent.com/CSSEGISandData/COVID-19/master/csse_covid_19_data/csse_covid_19_time_series/time_series_covid19_recovered_global.csv\")\n",
    "country_df = pd.read_csv('https://raw.githubusercontent.com/CSSEGISandData/COVID-19/web-data/data/cases_country.csv')"
   ]
  },
  {
   "cell_type": "code",
   "execution_count": 4,
   "metadata": {},
   "outputs": [],
   "source": [
    "country_df.columns = map(str.lower, country_df.columns)\n",
    "confirmed_df.columns = map(str.lower, confirmed_df.columns)\n",
    "recovered_df.columns = map(str.lower, recovered_df.columns)\n",
    "death_df.columns = map(str.lower, death_df.columns)"
   ]
  },
  {
   "cell_type": "code",
   "execution_count": 5,
   "metadata": {},
   "outputs": [],
   "source": [
    "confirmed_df = confirmed_df.rename(columns = {'province/state':'state', 'country/region':'country'})\n",
    "recovered_df = recovered_df.rename(columns = {'province/state':'state', 'country/region':'country'})\n",
    "death_df = death_df.rename(columns = {'province/state':'state', 'country/region':'country'})\n",
    "country_df = country_df.rename(columns = {'country_region':'country'})"
   ]
  },
  {
   "cell_type": "code",
   "execution_count": 6,
   "metadata": {},
   "outputs": [],
   "source": [
    "sorted_country_df = country_df.sort_values('confirmed', ascending=False)"
   ]
  },
  {
   "cell_type": "code",
   "execution_count": 22,
   "metadata": {},
   "outputs": [],
   "source": [
    "# new_data = pd.read_csv(\"https://raw.githubusercontent.com/microsoft/Bing-COVID-19-Data/master/data/Bing-COVID19-Data.csv\")"
   ]
  },
  {
   "cell_type": "markdown",
   "metadata": {},
   "source": [
    "***\n",
    "# `Corona virus spread over Map`\n",
    "***"
   ]
  },
  {
   "cell_type": "code",
   "execution_count": 23,
   "metadata": {},
   "outputs": [],
   "source": [
    "# map_data=new_data.groupby(['Latitude','Longitude'])\n",
    "# world_map = folium.Map(location=[20.5,78.9], tiles='cartodbpositron', zoom_start=4, max_zoom= 6, min_zoom=2)\n",
    "\n",
    "# for i, j in map_data:\n",
    "#     j.fillna(0, inplace=True)\n",
    "#     if j['AdminRegion2'].iloc[-1]==0:\n",
    "#         if j['AdminRegion1'].iloc[-1]==0:\n",
    "#             region=j['Country_Region'].iloc[-1]\n",
    "#         else:\n",
    "#             region=j['AdminRegion1'].iloc[-1]\n",
    "#     else:\n",
    "#         region=j['AdminRegion2'].iloc[-1]\n",
    "#     folium.Circle(\n",
    "#         location=[i[0], i[1]],\n",
    "#         fill=True,\n",
    "#         radius = (int((np.log((j['Confirmed'].iloc[-1])+1.00001)))+0.2)*6000,\n",
    "#         fill_color = 'red',\n",
    "#         color = 'tomato',\n",
    "#         tooltip = \"<div style='margin: 0; background-color: powderblue; color: blue;'>\"+\n",
    "#                     \"<h4 style='text-align:center;font-weight: bold'>\"+str(region) + \"</h4>\"\n",
    "#                     \"<hr style='margin:10px;color: white;'>\"+\n",
    "#                     \"<ul style='color: red;;list-style-type:circle;align-item:left;padding-left:20px;padding-right:20px'>\"+\n",
    "#                         \"<li>Confirmed: \"+str((j['Confirmed'].iloc[-1]))+\"</li>\"+\n",
    "#                         \"<li>Deaths:   \"+str((j['Deaths'].iloc[-1]))+\"</li>\"+\n",
    "#                         \"<li>Recovered: \"+str((j['Recovered'].iloc[-1]))+ \"</li>\"+\n",
    "#                     \"</ul></div>\",\n",
    "#         ).add_to(world_map)\n",
    "\n",
    "    \n",
    "world_map    \n",
    "\n",
    "world_map = folium.Map(location=[20.5,78.9], tiles='openstreetmap', zoom_start=4, max_zoom= 6, min_zoom=2)\n",
    "\n",
    "for i in range(len(confirmed_df)):\n",
    "    folium.Circle(\n",
    "        location=[confirmed_df.iloc[i]['lat'], confirmed_df.iloc[i]['long']],\n",
    "        fill=True,\n",
    "        radius = (int((np.log(confirmed_df.iloc[i,-1]+1.00001)))+0.2)*50000,\n",
    "        fill_color = 'blue',\n",
    "        color = 'red',\n",
    "        tooltip = \"<div style='margin: 0; background-color: powderblue; color: blue;'>\"+\n",
    "                    \"<h4 style='text-align:center;font-weight: bold'>\"+confirmed_df.iloc[i]['country'] + \"</h4>\"\n",
    "                    \"<hr style='margin:10px;color: white;'>\"+\n",
    "                    \"<ul style='color: blue;;list-style-type:circle;align-item:left;padding-left:20px;padding-right:20px'>\"+\n",
    "                        \"<li>Confirmed: \"+str(confirmed_df.iloc[i,-1])+\"</li>\"+\n",
    "                        \"<li>Deaths:   \"+str(death_df.iloc[i,-1])+\"</li>\"+\n",
    "                        \"<li>Death Rate: \"+ str(np.round(death_df.iloc[i,-1]/(confirmed_df.iloc[i,-1]+1.00001)*100,2))+ \"</li>\"+\n",
    "                    \"</ul></div>\",\n",
    "        ).add_to(world_map)   \n",
    "world_map    "
   ]
  },
  {
   "cell_type": "markdown",
   "metadata": {},
   "source": [
    "***\n",
    "# `Current cases`\n",
    "***"
   ]
  },
  {
   "cell_type": "markdown",
   "metadata": {},
   "source": [
    "# Select your Country to get data:"
   ]
  },
  {
   "cell_type": "code",
   "execution_count": 24,
   "metadata": {},
   "outputs": [],
   "source": [
    "def country_data(country):\n",
    "    df_list = [confirmed_df, death_df, recovered_df]\n",
    "    l=[]\n",
    "    for df in df_list:       \n",
    "        if country == 'World' or country == 'world':\n",
    "                data = np.sum(np.asarray(df.iloc[:,4:]),axis = 0)\n",
    "                l.append(data[-1])                \n",
    "        else:\n",
    "            data = np.sum(np.asarray(df[df['country'] == country].iloc[:,20:]),axis = 0)\n",
    "            l.append(data[-1])\n",
    "    l=[\"{:,}\".format(x) for x in l]\n",
    "    display(HTML(\"<div style = 'background-color: #504e4e; padding: 30px '>\" +\n",
    "             \"<span style='color: yellow; font-size:30px;'> Confirmed: \"  + str(l[0]) +\"</span>\" +\n",
    "             \"<span style='color: red; font-size:30px;margin-left:20px;'> Deaths: \" + str(l[1]) + \"</span>\"+\n",
    "             \"<span style='color: lightgreen; font-size:30px; margin-left:20px;'> Recovered: \" + str(l[2]) + \"</span>\"+\n",
    "             \"</div>\")\n",
    "               )\n",
    "cou=list(confirmed_df.country)\n",
    "cou.insert(0,'World')\n",
    "cou=list(dict.fromkeys(cou))\n",
    "interact(country_data, country=cou);\n"
   ]
  },
  {
   "cell_type": "markdown",
   "metadata": {},
   "source": [
    "# Slide to compare data of Countries:"
   ]
  },
  {
   "cell_type": "code",
   "execution_count": 25,
   "metadata": {},
   "outputs": [],
   "source": [
    "def highlight_col(x):\n",
    "    y = 'background-color: #8B6914'\n",
    "    r = 'background-color: maroon'\n",
    "    g = 'background-color: darkgreen'\n",
    "    temp_df = pd.DataFrame('', index=x.index, columns = x.columns)\n",
    "    temp_df.iloc[:,1]=y\n",
    "    temp_df.iloc[:,2]=r\n",
    "    temp_df.iloc[:,3]=g\n",
    "    return temp_df\n",
    "d=sorted_country_df[['country','confirmed','deaths','recovered']]\n",
    "d.index=[x+1 for x in range(len(d.values))]\n",
    "def get_highlight_col(N):\n",
    "    return d.head(N).style.apply(highlight_col, axis=None)\n",
    "interact(get_highlight_col, N=(1,30));"
   ]
  },
  {
   "cell_type": "code",
   "execution_count": 11,
   "metadata": {},
   "outputs": [],
   "source": [
    "import plotly.express as px"
   ]
  },
  {
   "cell_type": "markdown",
   "metadata": {},
   "source": [
    "# Slide to compare worst hit Countries:"
   ]
  },
  {
   "cell_type": "code",
   "execution_count": 26,
   "metadata": {},
   "outputs": [],
   "source": [
    "def worst_hit(Number):\n",
    "    fig = px.scatter(sorted_country_df.head(Number), x='country', y='confirmed', size='confirmed', color='country', \n",
    "                     hover_name='country', size_max=60)\n",
    "    fig.update_layout(\n",
    "        {'plot_bgcolor':'#8EE5EE',\n",
    "        'paper_bgcolor':'#838B83',\n",
    "        },\n",
    "        title=\" Worst hit countries\",\n",
    "        xaxis_title=\"Dates\",\n",
    "        yaxis_title=\"Confirmed and Death Cases\",\n",
    "        font=dict(\n",
    "            family=\"TimesNewRoman\",\n",
    "            size=14,\n",
    "            color='#F8F8FF'\n",
    "        ),           \n",
    "        width = 800\n",
    "    )\n",
    "    fig.show()\n",
    "#worst_hit(10)\n",
    "interact(worst_hit, Number=(1,30));\n"
   ]
  },
  {
   "cell_type": "markdown",
   "metadata": {},
   "source": [
    "# Select the Country to get data:"
   ]
  },
  {
   "cell_type": "code",
   "execution_count": 27,
   "metadata": {},
   "outputs": [],
   "source": [
    "def plot_cases_of_a_country(country):\n",
    "    labels = ['confirmed', 'deaths']\n",
    "    colors = ['blue', 'red']\n",
    "    mode_size = [6, 8]\n",
    "    line_size = [4, 5]\n",
    "    \n",
    "    df_list = [confirmed_df, death_df]\n",
    "    \n",
    "    fig = go.Figure();\n",
    "    \n",
    "    for i, df in enumerate(df_list):\n",
    "        if country == 'World' or country == 'world':\n",
    "            x_data = np.array(list(df.iloc[:, 20:].columns))\n",
    "            y_data = np.sum(np.asarray(df.iloc[:,4:]),axis = 0)\n",
    "            \n",
    "        else:    \n",
    "            x_data = np.array(list(df.iloc[:, 20:].columns))\n",
    "            y_data = np.sum(np.asarray(df[df['country'] == country].iloc[:,20:]),axis = 0)\n",
    "            \n",
    "        fig.add_trace(go.Scatter(x=x_data, y=y_data, mode='lines+markers',\n",
    "        name=labels[i],\n",
    "        line=dict(color=colors[i], width=line_size[i]),\n",
    "        connectgaps=True,\n",
    "        text = \"Total \" + str(labels[i]) +\": \"+ str(y_data[-1])\n",
    "        ));\n",
    "        \n",
    "    fig.update_layout({'plot_bgcolor':'#8EE5EE',\n",
    "        'paper_bgcolor':'#838B83',\n",
    "        },\n",
    "        title=\"Confirmed and Death cases\",\n",
    "        xaxis_title=\"Dates\",\n",
    "        yaxis_title=\"Confirmed and Death Cases\",\n",
    "        font=dict(\n",
    "            family=\"TimesNewRoman\",\n",
    "            size=14,\n",
    "            color='#F8F8FF'\n",
    "        ),           \n",
    "        width = 800         )\n",
    "    fig.show();\n",
    "#plot_cases_of_a_country('India') \n",
    "cou=list(confirmed_df.country)\n",
    "cou.insert(0,'World')\n",
    "cou=list(dict.fromkeys(cou))\n",
    "interact(plot_cases_of_a_country, country=cou);\n",
    "    \n",
    "    "
   ]
  },
  {
   "cell_type": "markdown",
   "metadata": {},
   "source": [
    "***\n",
    "# <font color='yellow'>Top 10 worst affected Countries- Confirmed cases</font>\n",
    "***"
   ]
  },
  {
   "cell_type": "code",
   "execution_count": 28,
   "metadata": {},
   "outputs": [],
   "source": [
    "fig1=px.bar(\n",
    "    sorted_country_df.head(10),\n",
    "    x = \"country\",\n",
    "    y = \"confirmed\",\n",
    "    #title= \"Top 10 worst affected countries- Confirmed cases\", # the axis names\n",
    "    color_discrete_sequence=[\"yellow\"], \n",
    "    height=500,\n",
    "    width=800\n",
    ")\n",
    "fig1.update_layout({'plot_bgcolor':'#8EE5EE',\n",
    "        'paper_bgcolor':'#838B83',\n",
    "        },\n",
    "        title=\" Compared using Confirmed cases\",\n",
    "        xaxis_title=\"Countries\",\n",
    "        yaxis_title=\"Confirmed Cases\",\n",
    "        font=dict(\n",
    "            family=\"TimesNewRoman\",\n",
    "            size=14,\n",
    "            color='#F8F8FF'\n",
    "        ),           \n",
    "        width = 800         )\n",
    "fig1.show()"
   ]
  },
  {
   "cell_type": "markdown",
   "metadata": {},
   "source": [
    "***\n",
    "# <font color='red'>Top 10 worst affected Countries- Death/Confirmed ratio</font>\n",
    "***"
   ]
  },
  {
   "cell_type": "code",
   "execution_count": 29,
   "metadata": {},
   "outputs": [],
   "source": [
    "country_df['d/c']=country_df['deaths']/country_df['confirmed']\n",
    "d= country_df.sort_values('d/c', ascending=False)\n",
    "#sorted_death_df = country_df.sort_values(country_df['d/c'], ascending=False)\n",
    "fig2=px.bar(\n",
    "    d.head(10),\n",
    "    x = \"country\",\n",
    "    y = \"deaths\",\n",
    "    #title= \"Top 10 worst affected countries- Death cases\", # the axis names\n",
    "    color_discrete_sequence=[\"red\"], \n",
    "    height=500,\n",
    "    width=800\n",
    ")\n",
    "fig2.update_layout(\n",
    "        {'plot_bgcolor':'#8EE5EE',\n",
    "        'paper_bgcolor':'#838B83',\n",
    "        },\n",
    "        title=\" Compared using Death/Confirmed cases\",\n",
    "        xaxis_title=\"Countries\",\n",
    "        yaxis_title=\"Confirmed Cases\",\n",
    "        font=dict(\n",
    "            family=\"TimesNewRoman\",\n",
    "            size=14,\n",
    "            color='#F8F8FF'\n",
    "        ),           \n",
    "        width = 800\n",
    "    )\n",
    "fig2.show()\n"
   ]
  },
  {
   "cell_type": "markdown",
   "metadata": {},
   "source": [
    "***\n",
    "# <font color='green'>Top 10 worst affected Countries-Recovered/Confirmed ratio</font>\n",
    "***"
   ]
  },
  {
   "cell_type": "code",
   "execution_count": 30,
   "metadata": {},
   "outputs": [],
   "source": [
    "country_df['r/c']=country_df['recovered']/country_df['confirmed']\n",
    "r= country_df.sort_values('r/c', ascending=False)\n",
    "#sorted_recovered_df = country_df.sort_values('recovered', ascending=True)\n",
    "fig3=px.bar(\n",
    "    r.head(10),\n",
    "    x = \"country\",\n",
    "    y = \"recovered\",\n",
    "    #title= \"Top 10 worst affected countries-Recovered cases\", # the axis names\n",
    "    color_discrete_sequence=[\"green\"], \n",
    "    height=500,\n",
    "    width=800\n",
    ")\n",
    "fig3.update_layout(\n",
    "        {'plot_bgcolor':'#8EE5EE',\n",
    "        'paper_bgcolor':'#838B83',\n",
    "        },\n",
    "        title=\" Compared using Recovered/Confirmed cases\",\n",
    "        xaxis_title=\"Countries\",\n",
    "        yaxis_title=\"Confirmed Cases\",\n",
    "        font=dict(\n",
    "            family=\"TimesNewRoman\",\n",
    "            size=14,\n",
    "            color='#F8F8FF'\n",
    "        ),           \n",
    "        width = 800\n",
    "    )\n",
    "fig3.show()"
   ]
  },
  {
   "cell_type": "markdown",
   "metadata": {},
   "source": [
    "# Select your State to get data:"
   ]
  },
  {
   "cell_type": "code",
   "execution_count": 33,
   "metadata": {},
   "outputs": [],
   "source": [
    "list_date=new_data.loc[new_data['Country_Region'] == 'India',['Updated']].tail(3)\n",
    "list_date=[x for x in list_date.iloc[:,0]]\n"
   ]
  },
  {
   "cell_type": "code",
   "execution_count": 31,
   "metadata": {},
   "outputs": [],
   "source": [
    "def state_data3(State='Uttar Pradesh'):\n",
    "    data_state=new_data[(new_data['AdminRegion1'] == State)&(new_data['AdminRegion2'].isnull())&((new_data['Updated'] == list_date[2])|(new_data['Updated'] == list_date[1])|(new_data['Updated'] == list_date[0]))].tail(1)\n",
    "    data_state.fillna(0, inplace=True)\n",
    "    if data_state.empty:\n",
    "        print('No data found')\n",
    "    else:\n",
    "        display(HTML(\"<div style = 'background-color: #504e4e; padding: 30px '>\" +\n",
    "             \"<span style='color: yellow; font-size:30px;'> Confirmed: \"  + str(int(data_state.iloc[0,2])) +\"</span>\" +\n",
    "             \"<span style='color: red; font-size:30px;margin-left:20px;'> Deaths: \" + str(int(data_state.iloc[0,4])) + \"</span>\"+\n",
    "             \"<span style='color: lightgreen; font-size:30px; margin-left:20px;'> Recovered: \" + str(int(data_state.iloc[0,6])) + \"</span>\"+\n",
    "             \"</div>\")\n",
    "               )\n",
    "list_state=list(new_data.AdminRegion1)\n",
    "list_state=[x for x in list_state if str(x)!='nan']\n",
    "#print(list_state)\n",
    "list_state=list(dict.fromkeys(list_state))\n",
    "list_state.sort()\n",
    "#print(list_state)\n",
    "#list_state=list_state[1:]\n",
    "interact(state_data3, State=list_state);"
   ]
  },
  {
   "cell_type": "markdown",
   "metadata": {},
   "source": [
    "# Select your City to get data:"
   ]
  },
  {
   "cell_type": "markdown",
   "metadata": {},
   "source": [
    "#### Use first letter capital"
   ]
  },
  {
   "cell_type": "code",
   "execution_count": 32,
   "metadata": {},
   "outputs": [],
   "source": [
    "def city_data3(city='Lucknow'):\n",
    "    data_city=new_data[(new_data['AdminRegion2'] == city)&((new_data['Updated'] == list_date[2])|(new_data['Updated'] == list_date[1])|(new_data['Updated'] == list_date[0]))]\n",
    "    data_city=data_city.tail(1)\n",
    "    data_city.fillna(0, inplace=True)\n",
    "    if data_city.empty:\n",
    "        print('No data found')\n",
    "    else:\n",
    "        display(HTML(\"<div style = 'background-color: #504e4e; padding: 30px '>\" +\n",
    "             \"<span style='color: yellow; font-size:30px;'> Confirmed: \"  + str(int(data_city.iloc[0,2])) +\"</span>\" +\n",
    "             \"<span style='color: red; font-size:30px;margin-left:20px;'> Deaths: \" + str(int(data_city.iloc[0,4])) + \"</span>\"+\n",
    "             \"<span style='color: lightgreen; font-size:30px; margin-left:20px;'> Recovered: \" + str(int(data_city.iloc[0,6])) + \"</span>\"+\n",
    "             \"</div>\")\n",
    "               )\n",
    "\n",
    "interact(city_data3, city='Lucknow');    "
   ]
  },
  {
   "cell_type": "markdown",
   "metadata": {},
   "source": [
    "### If you liked my work, please press the like button below:"
   ]
  }
 ],
 "metadata": {
  "kernelspec": {
   "display_name": "Python 3",
   "language": "python",
   "name": "python3"
  },
  "language_info": {
   "codemirror_mode": {
    "name": "ipython",
    "version": 3
   },
   "file_extension": ".py",
   "mimetype": "text/x-python",
   "name": "python",
   "nbconvert_exporter": "python",
   "pygments_lexer": "ipython3",
   "version": "3.7.6"
  }
 },
 "nbformat": 4,
 "nbformat_minor": 4
}
